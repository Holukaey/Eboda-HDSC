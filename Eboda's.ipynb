{
 "cells": [
  {
   "cell_type": "code",
   "execution_count": 2,
   "id": "94abd70b",
   "metadata": {},
   "outputs": [],
   "source": [
    "import pandas as pd"
   ]
  },
  {
   "cell_type": "code",
   "execution_count": 3,
   "id": "7c2cbc4f",
   "metadata": {},
   "outputs": [],
   "source": [
    "df=pd.read_csv(\"https://github.com/HamoyeHQ/HDSC-Introduction-to-Python-for-machine-learning/files/7768140/FoodBalanceSheets_E_Africa_NOFLAG.csv\", encoding = \"Latin-1\")"
   ]
  },
  {
   "cell_type": "code",
   "execution_count": 4,
   "id": "0be9eac9",
   "metadata": {},
   "outputs": [
    {
     "data": {
      "text/html": [
       "<div>\n",
       "<style scoped>\n",
       "    .dataframe tbody tr th:only-of-type {\n",
       "        vertical-align: middle;\n",
       "    }\n",
       "\n",
       "    .dataframe tbody tr th {\n",
       "        vertical-align: top;\n",
       "    }\n",
       "\n",
       "    .dataframe thead th {\n",
       "        text-align: right;\n",
       "    }\n",
       "</style>\n",
       "<table border=\"1\" class=\"dataframe\">\n",
       "  <thead>\n",
       "    <tr style=\"text-align: right;\">\n",
       "      <th></th>\n",
       "      <th>Area Code</th>\n",
       "      <th>Area</th>\n",
       "      <th>Item Code</th>\n",
       "      <th>Item</th>\n",
       "      <th>Element Code</th>\n",
       "      <th>Element</th>\n",
       "      <th>Unit</th>\n",
       "      <th>Y2014</th>\n",
       "      <th>Y2015</th>\n",
       "      <th>Y2016</th>\n",
       "      <th>Y2017</th>\n",
       "      <th>Y2018</th>\n",
       "    </tr>\n",
       "  </thead>\n",
       "  <tbody>\n",
       "    <tr>\n",
       "      <th>0</th>\n",
       "      <td>4</td>\n",
       "      <td>Algeria</td>\n",
       "      <td>2501</td>\n",
       "      <td>Population</td>\n",
       "      <td>511</td>\n",
       "      <td>Total Population - Both sexes</td>\n",
       "      <td>1000 persons</td>\n",
       "      <td>38924.00</td>\n",
       "      <td>39728.00</td>\n",
       "      <td>40551.00</td>\n",
       "      <td>41389.00</td>\n",
       "      <td>42228.00</td>\n",
       "    </tr>\n",
       "    <tr>\n",
       "      <th>1</th>\n",
       "      <td>4</td>\n",
       "      <td>Algeria</td>\n",
       "      <td>2501</td>\n",
       "      <td>Population</td>\n",
       "      <td>5301</td>\n",
       "      <td>Domestic supply quantity</td>\n",
       "      <td>1000 tonnes</td>\n",
       "      <td>0.00</td>\n",
       "      <td>0.00</td>\n",
       "      <td>0.00</td>\n",
       "      <td>0.00</td>\n",
       "      <td>0.00</td>\n",
       "    </tr>\n",
       "    <tr>\n",
       "      <th>2</th>\n",
       "      <td>4</td>\n",
       "      <td>Algeria</td>\n",
       "      <td>2901</td>\n",
       "      <td>Grand Total</td>\n",
       "      <td>664</td>\n",
       "      <td>Food supply (kcal/capita/day)</td>\n",
       "      <td>kcal/capita/day</td>\n",
       "      <td>3377.00</td>\n",
       "      <td>3379.00</td>\n",
       "      <td>3372.00</td>\n",
       "      <td>3341.00</td>\n",
       "      <td>3322.00</td>\n",
       "    </tr>\n",
       "    <tr>\n",
       "      <th>3</th>\n",
       "      <td>4</td>\n",
       "      <td>Algeria</td>\n",
       "      <td>2901</td>\n",
       "      <td>Grand Total</td>\n",
       "      <td>674</td>\n",
       "      <td>Protein supply quantity (g/capita/day)</td>\n",
       "      <td>g/capita/day</td>\n",
       "      <td>94.90</td>\n",
       "      <td>94.35</td>\n",
       "      <td>94.72</td>\n",
       "      <td>92.82</td>\n",
       "      <td>91.83</td>\n",
       "    </tr>\n",
       "    <tr>\n",
       "      <th>4</th>\n",
       "      <td>4</td>\n",
       "      <td>Algeria</td>\n",
       "      <td>2901</td>\n",
       "      <td>Grand Total</td>\n",
       "      <td>684</td>\n",
       "      <td>Fat supply quantity (g/capita/day)</td>\n",
       "      <td>g/capita/day</td>\n",
       "      <td>80.06</td>\n",
       "      <td>79.36</td>\n",
       "      <td>77.40</td>\n",
       "      <td>80.19</td>\n",
       "      <td>77.28</td>\n",
       "    </tr>\n",
       "    <tr>\n",
       "      <th>...</th>\n",
       "      <td>...</td>\n",
       "      <td>...</td>\n",
       "      <td>...</td>\n",
       "      <td>...</td>\n",
       "      <td>...</td>\n",
       "      <td>...</td>\n",
       "      <td>...</td>\n",
       "      <td>...</td>\n",
       "      <td>...</td>\n",
       "      <td>...</td>\n",
       "      <td>...</td>\n",
       "      <td>...</td>\n",
       "    </tr>\n",
       "    <tr>\n",
       "      <th>60938</th>\n",
       "      <td>181</td>\n",
       "      <td>Zimbabwe</td>\n",
       "      <td>2899</td>\n",
       "      <td>Miscellaneous</td>\n",
       "      <td>5142</td>\n",
       "      <td>Food</td>\n",
       "      <td>1000 tonnes</td>\n",
       "      <td>42.00</td>\n",
       "      <td>46.00</td>\n",
       "      <td>33.00</td>\n",
       "      <td>19.00</td>\n",
       "      <td>16.00</td>\n",
       "    </tr>\n",
       "    <tr>\n",
       "      <th>60939</th>\n",
       "      <td>181</td>\n",
       "      <td>Zimbabwe</td>\n",
       "      <td>2899</td>\n",
       "      <td>Miscellaneous</td>\n",
       "      <td>645</td>\n",
       "      <td>Food supply quantity (kg/capita/yr)</td>\n",
       "      <td>kg</td>\n",
       "      <td>3.06</td>\n",
       "      <td>3.33</td>\n",
       "      <td>2.35</td>\n",
       "      <td>1.33</td>\n",
       "      <td>1.08</td>\n",
       "    </tr>\n",
       "    <tr>\n",
       "      <th>60940</th>\n",
       "      <td>181</td>\n",
       "      <td>Zimbabwe</td>\n",
       "      <td>2899</td>\n",
       "      <td>Miscellaneous</td>\n",
       "      <td>664</td>\n",
       "      <td>Food supply (kcal/capita/day)</td>\n",
       "      <td>kcal/capita/day</td>\n",
       "      <td>3.00</td>\n",
       "      <td>4.00</td>\n",
       "      <td>3.00</td>\n",
       "      <td>1.00</td>\n",
       "      <td>1.00</td>\n",
       "    </tr>\n",
       "    <tr>\n",
       "      <th>60941</th>\n",
       "      <td>181</td>\n",
       "      <td>Zimbabwe</td>\n",
       "      <td>2899</td>\n",
       "      <td>Miscellaneous</td>\n",
       "      <td>674</td>\n",
       "      <td>Protein supply quantity (g/capita/day)</td>\n",
       "      <td>g/capita/day</td>\n",
       "      <td>0.10</td>\n",
       "      <td>0.11</td>\n",
       "      <td>0.08</td>\n",
       "      <td>0.04</td>\n",
       "      <td>0.04</td>\n",
       "    </tr>\n",
       "    <tr>\n",
       "      <th>60942</th>\n",
       "      <td>181</td>\n",
       "      <td>Zimbabwe</td>\n",
       "      <td>2899</td>\n",
       "      <td>Miscellaneous</td>\n",
       "      <td>684</td>\n",
       "      <td>Fat supply quantity (g/capita/day)</td>\n",
       "      <td>g/capita/day</td>\n",
       "      <td>0.04</td>\n",
       "      <td>0.05</td>\n",
       "      <td>0.03</td>\n",
       "      <td>0.02</td>\n",
       "      <td>0.01</td>\n",
       "    </tr>\n",
       "  </tbody>\n",
       "</table>\n",
       "<p>60943 rows × 12 columns</p>\n",
       "</div>"
      ],
      "text/plain": [
       "       Area Code      Area  Item Code           Item  Element Code  \\\n",
       "0              4   Algeria       2501     Population           511   \n",
       "1              4   Algeria       2501     Population          5301   \n",
       "2              4   Algeria       2901    Grand Total           664   \n",
       "3              4   Algeria       2901    Grand Total           674   \n",
       "4              4   Algeria       2901    Grand Total           684   \n",
       "...          ...       ...        ...            ...           ...   \n",
       "60938        181  Zimbabwe       2899  Miscellaneous          5142   \n",
       "60939        181  Zimbabwe       2899  Miscellaneous           645   \n",
       "60940        181  Zimbabwe       2899  Miscellaneous           664   \n",
       "60941        181  Zimbabwe       2899  Miscellaneous           674   \n",
       "60942        181  Zimbabwe       2899  Miscellaneous           684   \n",
       "\n",
       "                                      Element             Unit     Y2014  \\\n",
       "0               Total Population - Both sexes     1000 persons  38924.00   \n",
       "1                    Domestic supply quantity      1000 tonnes      0.00   \n",
       "2               Food supply (kcal/capita/day)  kcal/capita/day   3377.00   \n",
       "3      Protein supply quantity (g/capita/day)     g/capita/day     94.90   \n",
       "4          Fat supply quantity (g/capita/day)     g/capita/day     80.06   \n",
       "...                                       ...              ...       ...   \n",
       "60938                                    Food      1000 tonnes     42.00   \n",
       "60939     Food supply quantity (kg/capita/yr)               kg      3.06   \n",
       "60940           Food supply (kcal/capita/day)  kcal/capita/day      3.00   \n",
       "60941  Protein supply quantity (g/capita/day)     g/capita/day      0.10   \n",
       "60942      Fat supply quantity (g/capita/day)     g/capita/day      0.04   \n",
       "\n",
       "          Y2015     Y2016     Y2017     Y2018  \n",
       "0      39728.00  40551.00  41389.00  42228.00  \n",
       "1          0.00      0.00      0.00      0.00  \n",
       "2       3379.00   3372.00   3341.00   3322.00  \n",
       "3         94.35     94.72     92.82     91.83  \n",
       "4         79.36     77.40     80.19     77.28  \n",
       "...         ...       ...       ...       ...  \n",
       "60938     46.00     33.00     19.00     16.00  \n",
       "60939      3.33      2.35      1.33      1.08  \n",
       "60940      4.00      3.00      1.00      1.00  \n",
       "60941      0.11      0.08      0.04      0.04  \n",
       "60942      0.05      0.03      0.02      0.01  \n",
       "\n",
       "[60943 rows x 12 columns]"
      ]
     },
     "execution_count": 4,
     "metadata": {},
     "output_type": "execute_result"
    }
   ],
   "source": [
    "df"
   ]
  },
  {
   "cell_type": "code",
   "execution_count": 5,
   "id": "9ebc438b",
   "metadata": {},
   "outputs": [],
   "source": [
    "df.to_csv(\"https://github.com/HamoyeHQ/HDSC-Introduction-to-Python-for-machine-learning/files/7768140/FoodBalanceSheets_E_Africa_NOFLAG.csv\", index=False)"
   ]
  },
  {
   "cell_type": "code",
   "execution_count": 18,
   "id": "aeb56375",
   "metadata": {},
   "outputs": [],
   "source": [
    "url='https://github.com/HamoyeHQ/HDSC-Introduction-to-Python-for-machine-learning/files/7768140/FoodBalanceSheets_E_Africa_NOFLAG.csv'"
   ]
  },
  {
   "cell_type": "code",
   "execution_count": 10,
   "id": "da5e276e",
   "metadata": {},
   "outputs": [
    {
     "data": {
      "text/plain": [
       "Area Code          0\n",
       "Area               0\n",
       "Item Code          0\n",
       "Item               0\n",
       "Element Code       0\n",
       "Element            0\n",
       "Unit               0\n",
       "Y2014           1589\n",
       "Y2015           1548\n",
       "Y2016           1535\n",
       "Y2017           1506\n",
       "Y2018           1436\n",
       "dtype: int64"
      ]
     },
     "execution_count": 10,
     "metadata": {},
     "output_type": "execute_result"
    }
   ],
   "source": [
    "df.isnull().sum()"
   ]
  },
  {
   "cell_type": "code",
   "execution_count": 87,
   "id": "a14be355",
   "metadata": {},
   "outputs": [],
   "source": [
    "a=my_tuppy=(1,2,5,8)"
   ]
  },
  {
   "cell_type": "code",
   "execution_count": 86,
   "id": "67d63187",
   "metadata": {},
   "outputs": [
    {
     "ename": "TypeError",
     "evalue": "'tuple' object does not support item assignment",
     "output_type": "error",
     "traceback": [
      "\u001b[1;31m---------------------------------------------------------------------------\u001b[0m",
      "\u001b[1;31mTypeError\u001b[0m                                 Traceback (most recent call last)",
      "Cell \u001b[1;32mIn[86], line 1\u001b[0m\n\u001b[1;32m----> 1\u001b[0m my_tuppy[\u001b[38;5;241m2\u001b[39m]\u001b[38;5;241m=\u001b[39m\u001b[38;5;241m6\u001b[39m\n",
      "\u001b[1;31mTypeError\u001b[0m: 'tuple' object does not support item assignment"
     ]
    }
   ],
   "source": [
    "my_tuppy[2]=6"
   ]
  },
  {
   "cell_type": "code",
   "execution_count": 88,
   "id": "193eb26b",
   "metadata": {},
   "outputs": [
    {
     "data": {
      "text/plain": [
       "(1, 2, 5, 8)"
      ]
     },
     "execution_count": 88,
     "metadata": {},
     "output_type": "execute_result"
    }
   ],
   "source": [
    "a"
   ]
  },
  {
   "cell_type": "code",
   "execution_count": 64,
   "id": "183a599f",
   "metadata": {},
   "outputs": [],
   "source": [
    "foodb=df.groupby('Area')['Y2017'].sum().sort_values(ascending=True)"
   ]
  },
  {
   "cell_type": "code",
   "execution_count": 65,
   "id": "c03d17fc",
   "metadata": {},
   "outputs": [
    {
     "name": "stdout",
     "output_type": "stream",
     "text": [
      "Area\n",
      "Sudan (former)                       0.00\n",
      "Ethiopia PDR                         0.00\n",
      "Comoros                             59.84\n",
      "Seychelles                         442.34\n",
      "Sao Tome and Principe            12662.63\n",
      "Cabo Verde                       14650.74\n",
      "Guinea-Bissau                    19102.77\n",
      "Lesotho                          21267.96\n",
      "Botswana                         22101.30\n",
      "Djibouti                         22729.91\n",
      "Gambia                           23154.18\n",
      "Gabon                            27979.64\n",
      "Liberia                          29342.20\n",
      "Namibia                          29874.89\n",
      "Central African Republic         29937.00\n",
      "Congo                            41181.68\n",
      "Togo                             49841.88\n",
      "Mauritius                        51114.83\n",
      "Eswatini                         54343.33\n",
      "Sierra Leone                     55311.33\n",
      "Chad                             71594.68\n",
      "Rwanda                           73663.69\n",
      "Zimbabwe                         75919.34\n",
      "Senegal                          95681.15\n",
      "Guinea                           98138.87\n",
      "Burkina Faso                    101855.07\n",
      "Zambia                          103223.77\n",
      "Tunisia                         124167.20\n",
      "Benin                           124771.22\n",
      "Niger                           126707.58\n",
      "Madagascar                      131197.73\n",
      "Mali                            149928.33\n",
      "Mauritania                      156665.46\n",
      "Mozambique                      161407.98\n",
      "Malawi                          181098.71\n",
      "Uganda                          213950.38\n",
      "Côte d'Ivoire                   224599.01\n",
      "Angola                          229159.57\n",
      "Cameroon                        232030.43\n",
      "Sudan                           239931.92\n",
      "Kenya                           264660.66\n",
      "United Republic of Tanzania     322616.85\n",
      "Algeria                         325644.27\n",
      "Ghana                           337599.06\n",
      "Morocco                         388495.36\n",
      "Ethiopia                        448683.76\n",
      "South Africa                    517590.54\n",
      "Egypt                           866379.92\n",
      "Nigeria                        1483268.23\n",
      "Name: Y2017, dtype: float64\n"
     ]
    }
   ],
   "source": [
    "print (foodb)"
   ]
  },
  {
   "cell_type": "code",
   "execution_count": 42,
   "id": "afc4d1c2",
   "metadata": {},
   "outputs": [
    {
     "data": {
      "text/html": [
       "<div>\n",
       "<style scoped>\n",
       "    .dataframe tbody tr th:only-of-type {\n",
       "        vertical-align: middle;\n",
       "    }\n",
       "\n",
       "    .dataframe tbody tr th {\n",
       "        vertical-align: top;\n",
       "    }\n",
       "\n",
       "    .dataframe thead th {\n",
       "        text-align: right;\n",
       "    }\n",
       "</style>\n",
       "<table border=\"1\" class=\"dataframe\">\n",
       "  <thead>\n",
       "    <tr style=\"text-align: right;\">\n",
       "      <th></th>\n",
       "      <th>Age</th>\n",
       "      <th>Nationality</th>\n",
       "      <th>Overall</th>\n",
       "    </tr>\n",
       "  </thead>\n",
       "  <tbody>\n",
       "    <tr>\n",
       "      <th>1</th>\n",
       "      <td>35</td>\n",
       "      <td>Portugal</td>\n",
       "      <td>94</td>\n",
       "    </tr>\n",
       "    <tr>\n",
       "      <th>2</th>\n",
       "      <td>33</td>\n",
       "      <td>Argentina</td>\n",
       "      <td>93</td>\n",
       "    </tr>\n",
       "    <tr>\n",
       "      <th>3</th>\n",
       "      <td>30</td>\n",
       "      <td>Brazil</td>\n",
       "      <td>92</td>\n",
       "    </tr>\n",
       "  </tbody>\n",
       "</table>\n",
       "</div>"
      ],
      "text/plain": [
       "   Age Nationality  Overall\n",
       "1   35    Portugal       94\n",
       "2   33   Argentina       93\n",
       "3   30      Brazil       92"
      ]
     },
     "execution_count": 42,
     "metadata": {},
     "output_type": "execute_result"
    }
   ],
   "source": [
    "pd.DataFrame([[35,'Portugal',94],[33,'Argentina',93],[30,'Brazil',92]], columns=['Age', 'Nationality','Overall'], index=[i for i in range(1,4)])"
   ]
  },
  {
   "cell_type": "code",
   "execution_count": 77,
   "id": "da38d470",
   "metadata": {},
   "outputs": [
    {
     "data": {
      "text/plain": [
       "Y2015      Y2018    \n",
       "-3161.0    -296.0       Cereals - Excluding Beer\n",
       "-2152.0    -597.0             Maize and products\n",
       "-1284.0     1898.0      Cereals - Excluding Beer\n",
       "-907.0     -529.0       Cereals - Excluding Beer\n",
       "-887.0      163.0           Sorghum and products\n",
       "                                  ...           \n",
       " 92443.0    98424.0                   Population\n",
       " 100835.0   109224.0                  Population\n",
       " 110798.0   117038.0               Starchy Roots\n",
       " 111663.0   118172.0               Starchy Roots\n",
       " 181137.0   195875.0                  Population\n",
       "Name: Item, Length: 14814, dtype: object"
      ]
     },
     "execution_count": 77,
     "metadata": {},
     "output_type": "execute_result"
    }
   ],
   "source": [
    "df.groupby(['Y2015','Y2018'])['Item'].sum()"
   ]
  },
  {
   "cell_type": "code",
   "execution_count": 79,
   "id": "19b24887",
   "metadata": {},
   "outputs": [
    {
     "data": {
      "text/plain": [
       "Element\n",
       "Tourist consumption                            91.00\n",
       "Fat supply quantity (g/capita/day)          10253.84\n",
       "Protein supply quantity (g/capita/day)      11842.45\n",
       "Seed                                        24870.14\n",
       "Residuals                                   35500.00\n",
       "Food supply quantity (kg/capita/yr)         48690.04\n",
       "Stock Variation                             54316.91\n",
       "Other uses (non-food)                       91645.97\n",
       "Losses                                     160614.00\n",
       "Export Quantity                            182338.80\n",
       "Feed                                       223705.68\n",
       "Processing                                 292836.00\n",
       "Import Quantity                            294559.09\n",
       "Food supply (kcal/capita/day)              454681.00\n",
       "Total Population - Both sexes             1112641.00\n",
       "Food                                      1258888.28\n",
       "Production                                2030056.89\n",
       "Domestic supply quantity                  2088198.10\n",
       "Name: Y2017, dtype: float64"
      ]
     },
     "execution_count": 79,
     "metadata": {},
     "output_type": "execute_result"
    }
   ],
   "source": [
    "df.groupby('Element')['Y2017'].sum().sort_values(ascending=True)"
   ]
  },
  {
   "cell_type": "code",
   "execution_count": 91,
   "id": "65864ce1",
   "metadata": {},
   "outputs": [
    {
     "data": {
      "text/plain": [
       "140.9177648602722"
      ]
     },
     "execution_count": 91,
     "metadata": {},
     "output_type": "execute_result"
    }
   ],
   "source": [
    "df['Y2017'].mean()"
   ]
  },
  {
   "cell_type": "code",
   "execution_count": 92,
   "id": "61dfbae1",
   "metadata": {},
   "outputs": [
    {
     "data": {
      "text/plain": [
       "1671.8623590572788"
      ]
     },
     "execution_count": 92,
     "metadata": {},
     "output_type": "execute_result"
    }
   ],
   "source": [
    "df['Y2017'].std()"
   ]
  },
  {
   "cell_type": "code",
   "execution_count": 103,
   "id": "a1aaa78d",
   "metadata": {},
   "outputs": [
    {
     "data": {
      "text/plain": [
       "Area\n",
       "Algeria                         324058.40\n",
       "Angola                          209565.67\n",
       "Benin                           108181.13\n",
       "Botswana                         23024.85\n",
       "Burkina Faso                    102701.22\n",
       "Cabo Verde                       14538.93\n",
       "Cameroon                        225220.72\n",
       "Central African Republic         28885.34\n",
       "Chad                             65835.88\n",
       "Comoros                             41.34\n",
       "Congo                            40255.51\n",
       "Côte d'Ivoire                   211591.29\n",
       "Djibouti                         23690.16\n",
       "Egypt                           868218.73\n",
       "Eswatini                         54072.07\n",
       "Ethiopia                        429139.33\n",
       "Ethiopia PDR                         0.00\n",
       "Gabon                            28367.30\n",
       "Gambia                           19665.39\n",
       "Ghana                           311092.13\n",
       "Guinea                           92803.39\n",
       "Guinea-Bissau                    17990.06\n",
       "Kenya                           265506.19\n",
       "Lesotho                          17965.84\n",
       "Liberia                          28698.10\n",
       "Madagascar                      126674.90\n",
       "Malawi                          167989.09\n",
       "Mali                            132456.58\n",
       "Mauritania                       61909.99\n",
       "Mauritius                        53372.42\n",
       "Morocco                         412473.80\n",
       "Mozambique                      158231.17\n",
       "Namibia                          30687.90\n",
       "Niger                           117834.65\n",
       "Nigeria                        1414362.83\n",
       "Rwanda                           70138.83\n",
       "Sao Tome and Principe            12386.93\n",
       "Senegal                          91939.14\n",
       "Seychelles                         358.20\n",
       "Sierra Leone                     62523.14\n",
       "South Africa                    468352.18\n",
       "Sudan                           230652.54\n",
       "Sudan (former)                       0.00\n",
       "Togo                             47834.59\n",
       "Tunisia                         128211.41\n",
       "Uganda                          220615.72\n",
       "United Republic of Tanzania     341969.46\n",
       "Zambia                           96214.00\n",
       "Zimbabwe                         74041.79\n",
       "Name: Y2015, dtype: float64"
      ]
     },
     "execution_count": 103,
     "metadata": {},
     "output_type": "execute_result"
    }
   ],
   "source": [
    "df.groupby('Area')['Y2015'].sum()"
   ]
  },
  {
   "cell_type": "code",
   "execution_count": 119,
   "id": "f86edb4f",
   "metadata": {},
   "outputs": [
    {
     "data": {
      "text/plain": [
       "Element\n",
       "Domestic supply quantity                  1996716.35\n",
       "Export Quantity                            150020.64\n",
       "Fat supply quantity (g/capita/day)          10225.56\n",
       "Feed                                       216927.89\n",
       "Food                                      1212332.49\n",
       "Food supply (kcal/capita/day)              454257.00\n",
       "Food supply quantity (kg/capita/yr)         49650.63\n",
       "Import Quantity                            274144.48\n",
       "Losses                                     153223.00\n",
       "Other uses (non-food)                       78718.13\n",
       "Processing                                 282923.00\n",
       "Production                                1931287.75\n",
       "Protein supply quantity (g/capita/day)      11836.46\n",
       "Residuals                                   30149.00\n",
       "Seed                                        21922.92\n",
       "Stock Variation                             58749.83\n",
       "Total Population - Both sexes             1031585.00\n",
       "Tourist consumption                           416.00\n",
       "Name: Y2014, dtype: float64"
      ]
     },
     "execution_count": 119,
     "metadata": {},
     "output_type": "execute_result"
    }
   ],
   "source": [
    "df.groupby('Element')['Y2014'].sum()"
   ]
  },
  {
   "cell_type": "code",
   "execution_count": 117,
   "id": "a0674816",
   "metadata": {},
   "outputs": [],
   "source": [
    "S=[['him','sell'], [90,28,43]]"
   ]
  },
  {
   "cell_type": "code",
   "execution_count": 118,
   "id": "e3cc5ec4",
   "metadata": {},
   "outputs": [
    {
     "data": {
      "text/plain": [
       "'e'"
      ]
     },
     "execution_count": 118,
     "metadata": {},
     "output_type": "execute_result"
    }
   ],
   "source": [
    "S[0][1][1]"
   ]
  },
  {
   "cell_type": "code",
   "execution_count": 120,
   "id": "97e4c1f1",
   "metadata": {},
   "outputs": [
    {
     "data": {
      "text/plain": [
       "Element\n",
       "Domestic supply quantity                  2088198.10\n",
       "Export Quantity                            182338.80\n",
       "Fat supply quantity (g/capita/day)          10253.84\n",
       "Feed                                       223705.68\n",
       "Food                                      1258888.28\n",
       "Food supply (kcal/capita/day)              454681.00\n",
       "Food supply quantity (kg/capita/yr)         48690.04\n",
       "Import Quantity                            294559.09\n",
       "Losses                                     160614.00\n",
       "Other uses (non-food)                       91645.97\n",
       "Processing                                 292836.00\n",
       "Production                                2030056.89\n",
       "Protein supply quantity (g/capita/day)      11842.45\n",
       "Residuals                                   35500.00\n",
       "Seed                                        24870.14\n",
       "Stock Variation                             54316.91\n",
       "Total Population - Both sexes             1112641.00\n",
       "Tourist consumption                            91.00\n",
       "Name: Y2017, dtype: float64"
      ]
     },
     "execution_count": 120,
     "metadata": {},
     "output_type": "execute_result"
    }
   ],
   "source": [
    "df.groupby('Element')['Y2017'].sum()"
   ]
  },
  {
   "cell_type": "code",
   "execution_count": 122,
   "id": "a14aefcc",
   "metadata": {},
   "outputs": [
    {
     "name": "stderr",
     "output_type": "stream",
     "text": [
      "C:\\Users\\user\\AppData\\Local\\Temp\\ipykernel_6092\\948944822.py:1: FutureWarning: The default value of numeric_only in DataFrameGroupBy.sum is deprecated. In a future version, numeric_only will default to False. Either specify numeric_only or select only columns which should be valid for the function.\n",
      "  df.groupby(['Element','Area']).sum()\n"
     ]
    },
    {
     "data": {
      "text/html": [
       "<div>\n",
       "<style scoped>\n",
       "    .dataframe tbody tr th:only-of-type {\n",
       "        vertical-align: middle;\n",
       "    }\n",
       "\n",
       "    .dataframe tbody tr th {\n",
       "        vertical-align: top;\n",
       "    }\n",
       "\n",
       "    .dataframe thead th {\n",
       "        text-align: right;\n",
       "    }\n",
       "</style>\n",
       "<table border=\"1\" class=\"dataframe\">\n",
       "  <thead>\n",
       "    <tr style=\"text-align: right;\">\n",
       "      <th></th>\n",
       "      <th></th>\n",
       "      <th>Area Code</th>\n",
       "      <th>Item Code</th>\n",
       "      <th>Element Code</th>\n",
       "      <th>Y2014</th>\n",
       "      <th>Y2015</th>\n",
       "      <th>Y2016</th>\n",
       "      <th>Y2017</th>\n",
       "      <th>Y2018</th>\n",
       "    </tr>\n",
       "    <tr>\n",
       "      <th>Element</th>\n",
       "      <th>Area</th>\n",
       "      <th></th>\n",
       "      <th></th>\n",
       "      <th></th>\n",
       "      <th></th>\n",
       "      <th></th>\n",
       "      <th></th>\n",
       "      <th></th>\n",
       "      <th></th>\n",
       "    </tr>\n",
       "  </thead>\n",
       "  <tbody>\n",
       "    <tr>\n",
       "      <th rowspan=\"5\" valign=\"top\">Domestic supply quantity</th>\n",
       "      <th>Algeria</th>\n",
       "      <td>464</td>\n",
       "      <td>311204</td>\n",
       "      <td>614916</td>\n",
       "      <td>83755.94</td>\n",
       "      <td>85972.86</td>\n",
       "      <td>87157.61</td>\n",
       "      <td>86810.42</td>\n",
       "      <td>90023.42</td>\n",
       "    </tr>\n",
       "    <tr>\n",
       "      <th>Angola</th>\n",
       "      <td>826</td>\n",
       "      <td>316106</td>\n",
       "      <td>625518</td>\n",
       "      <td>53786.91</td>\n",
       "      <td>55482.91</td>\n",
       "      <td>55719.68</td>\n",
       "      <td>57065.22</td>\n",
       "      <td>59590.22</td>\n",
       "    </tr>\n",
       "    <tr>\n",
       "      <th>Benin</th>\n",
       "      <td>6148</td>\n",
       "      <td>310985</td>\n",
       "      <td>614916</td>\n",
       "      <td>29864.06</td>\n",
       "      <td>27661.67</td>\n",
       "      <td>30650.03</td>\n",
       "      <td>32132.90</td>\n",
       "      <td>31447.90</td>\n",
       "    </tr>\n",
       "    <tr>\n",
       "      <th>Botswana</th>\n",
       "      <td>2340</td>\n",
       "      <td>313766</td>\n",
       "      <td>620217</td>\n",
       "      <td>2670.84</td>\n",
       "      <td>2916.14</td>\n",
       "      <td>2921.83</td>\n",
       "      <td>2579.85</td>\n",
       "      <td>3045.85</td>\n",
       "    </tr>\n",
       "    <tr>\n",
       "      <th>Burkina Faso</th>\n",
       "      <td>27494</td>\n",
       "      <td>316106</td>\n",
       "      <td>625518</td>\n",
       "      <td>24637.15</td>\n",
       "      <td>23658.17</td>\n",
       "      <td>24498.86</td>\n",
       "      <td>23276.16</td>\n",
       "      <td>25705.16</td>\n",
       "    </tr>\n",
       "    <tr>\n",
       "      <th>...</th>\n",
       "      <th>...</th>\n",
       "      <td>...</td>\n",
       "      <td>...</td>\n",
       "      <td>...</td>\n",
       "      <td>...</td>\n",
       "      <td>...</td>\n",
       "      <td>...</td>\n",
       "      <td>...</td>\n",
       "      <td>...</td>\n",
       "    </tr>\n",
       "    <tr>\n",
       "      <th rowspan=\"5\" valign=\"top\">Tourist consumption</th>\n",
       "      <th>Cabo Verde</th>\n",
       "      <td>3150</td>\n",
       "      <td>241236</td>\n",
       "      <td>465390</td>\n",
       "      <td>3.00</td>\n",
       "      <td>5.00</td>\n",
       "      <td>7.00</td>\n",
       "      <td>7.00</td>\n",
       "      <td>7.00</td>\n",
       "    </tr>\n",
       "    <tr>\n",
       "      <th>Egypt</th>\n",
       "      <td>5546</td>\n",
       "      <td>251428</td>\n",
       "      <td>486074</td>\n",
       "      <td>348.00</td>\n",
       "      <td>286.00</td>\n",
       "      <td>23.00</td>\n",
       "      <td>23.00</td>\n",
       "      <td>23.00</td>\n",
       "    </tr>\n",
       "    <tr>\n",
       "      <th>Kenya</th>\n",
       "      <td>11172</td>\n",
       "      <td>261986</td>\n",
       "      <td>506758</td>\n",
       "      <td>17.00</td>\n",
       "      <td>17.00</td>\n",
       "      <td>17.00</td>\n",
       "      <td>17.00</td>\n",
       "      <td>17.00</td>\n",
       "    </tr>\n",
       "    <tr>\n",
       "      <th>Mauritius</th>\n",
       "      <td>12467</td>\n",
       "      <td>243857</td>\n",
       "      <td>470561</td>\n",
       "      <td>26.00</td>\n",
       "      <td>29.00</td>\n",
       "      <td>31.00</td>\n",
       "      <td>31.00</td>\n",
       "      <td>31.00</td>\n",
       "    </tr>\n",
       "    <tr>\n",
       "      <th>Sao Tome and Principe</th>\n",
       "      <td>16019</td>\n",
       "      <td>223107</td>\n",
       "      <td>429193</td>\n",
       "      <td>10.00</td>\n",
       "      <td>12.00</td>\n",
       "      <td>11.00</td>\n",
       "      <td>13.00</td>\n",
       "      <td>12.00</td>\n",
       "    </tr>\n",
       "  </tbody>\n",
       "</table>\n",
       "<p>803 rows × 8 columns</p>\n",
       "</div>"
      ],
      "text/plain": [
       "                                                Area Code  Item Code  \\\n",
       "Element                  Area                                          \n",
       "Domestic supply quantity Algeria                      464     311204   \n",
       "                         Angola                       826     316106   \n",
       "                         Benin                       6148     310985   \n",
       "                         Botswana                    2340     313766   \n",
       "                         Burkina Faso               27494     316106   \n",
       "...                                                   ...        ...   \n",
       "Tourist consumption      Cabo Verde                  3150     241236   \n",
       "                         Egypt                       5546     251428   \n",
       "                         Kenya                      11172     261986   \n",
       "                         Mauritius                  12467     243857   \n",
       "                         Sao Tome and Principe      16019     223107   \n",
       "\n",
       "                                                Element Code     Y2014  \\\n",
       "Element                  Area                                            \n",
       "Domestic supply quantity Algeria                      614916  83755.94   \n",
       "                         Angola                       625518  53786.91   \n",
       "                         Benin                        614916  29864.06   \n",
       "                         Botswana                     620217   2670.84   \n",
       "                         Burkina Faso                 625518  24637.15   \n",
       "...                                                      ...       ...   \n",
       "Tourist consumption      Cabo Verde                   465390      3.00   \n",
       "                         Egypt                        486074    348.00   \n",
       "                         Kenya                        506758     17.00   \n",
       "                         Mauritius                    470561     26.00   \n",
       "                         Sao Tome and Principe        429193     10.00   \n",
       "\n",
       "                                                   Y2015     Y2016     Y2017  \\\n",
       "Element                  Area                                                  \n",
       "Domestic supply quantity Algeria                85972.86  87157.61  86810.42   \n",
       "                         Angola                 55482.91  55719.68  57065.22   \n",
       "                         Benin                  27661.67  30650.03  32132.90   \n",
       "                         Botswana                2916.14   2921.83   2579.85   \n",
       "                         Burkina Faso           23658.17  24498.86  23276.16   \n",
       "...                                                  ...       ...       ...   \n",
       "Tourist consumption      Cabo Verde                 5.00      7.00      7.00   \n",
       "                         Egypt                    286.00     23.00     23.00   \n",
       "                         Kenya                     17.00     17.00     17.00   \n",
       "                         Mauritius                 29.00     31.00     31.00   \n",
       "                         Sao Tome and Principe     12.00     11.00     13.00   \n",
       "\n",
       "                                                   Y2018  \n",
       "Element                  Area                             \n",
       "Domestic supply quantity Algeria                90023.42  \n",
       "                         Angola                 59590.22  \n",
       "                         Benin                  31447.90  \n",
       "                         Botswana                3045.85  \n",
       "                         Burkina Faso           25705.16  \n",
       "...                                                  ...  \n",
       "Tourist consumption      Cabo Verde                 7.00  \n",
       "                         Egypt                     23.00  \n",
       "                         Kenya                     17.00  \n",
       "                         Mauritius                 31.00  \n",
       "                         Sao Tome and Principe     12.00  \n",
       "\n",
       "[803 rows x 8 columns]"
      ]
     },
     "execution_count": 122,
     "metadata": {},
     "output_type": "execute_result"
    }
   ],
   "source": [
    "df.groupby(['Element','Area']).sum()"
   ]
  }
 ],
 "metadata": {
  "kernelspec": {
   "display_name": "Python 3 (ipykernel)",
   "language": "python",
   "name": "python3"
  },
  "language_info": {
   "codemirror_mode": {
    "name": "ipython",
    "version": 3
   },
   "file_extension": ".py",
   "mimetype": "text/x-python",
   "name": "python",
   "nbconvert_exporter": "python",
   "pygments_lexer": "ipython3",
   "version": "3.11.4"
  }
 },
 "nbformat": 4,
 "nbformat_minor": 5
}
